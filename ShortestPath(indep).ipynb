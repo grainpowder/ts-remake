{
 "cells": [
  {
   "cell_type": "code",
   "execution_count": 2,
   "id": "hollow-corruption",
   "metadata": {},
   "outputs": [],
   "source": [
    "import numpy as np\n",
    "import pandas as pd\n",
    "import heapq, sys, copy, random\n",
    "import matplotlib.pyplot as plt\n",
    "from collections import defaultdict"
   ]
  },
  {
   "cell_type": "markdown",
   "id": "comprehensive-badge",
   "metadata": {},
   "source": [
    "# 요약"
   ]
  },
  {
   "cell_type": "markdown",
   "id": "corrected-reality",
   "metadata": {},
   "source": [
    "Thompson sampling의 다양한 적용 방법에 대한 설명을 하기 위해서는 Bernoulli Bandit보다는 복잡한 예시가 필요하다. 그래서 각 edge를 통과하는 데 걸리는 시간이 확률적으로 정해지는 Binary Bridge에서 최단 거리 탐색 문제를 Thompson sampling을 비롯한 여러 online learning algorithm들을 통해 해결하는 과정을 설명한다."
   ]
  },
  {
   "cell_type": "markdown",
   "id": "confident-treatment",
   "metadata": {},
   "source": [
    "## Binary Bridge"
   ]
  },
  {
   "cell_type": "markdown",
   "id": "reported-virginia",
   "metadata": {},
   "source": [
    "Agent는 각 stage마다 한 edge를 타고 이동한다. $s$에서 출발해 $d$에 도착하기까지 총 $n$(짝수)개의 stage가 있다고 할 때, 책에서 설명하는 Binary Bridge는 아래와 같은 방식으로 정의되는 그래프다.\n",
    "\n",
    "1. (node 배치) $i=0,\\ldots,n$에 대해 아래 과정을 반복한다.\n",
    "    1. $p=(i + 1) - 2\\text{max}(0, i - \\frac{n}{2})$개의 노드를 정의한다.\n",
    "    1. $p$개의 node를 각각 $(i, j)$에 배치시킨다$(j=0,\\ldots,p-1)$\n",
    "1. (node 연결) 임의의 노드 $(x,y)$에 대해 아래 과정을 반복한다.\n",
    "    1. $(x+1, y+1)$이 정의되어 있으면 $(x,y)$에서 여기로 가는 방향을 가진 edge를 정의한다.\n",
    "    1. $(x+1, y)$이 정의되어 있으면 $(x,y)$에서 여기로 가는 방향을 가진 edge를 정의한다.\n",
    "    1. $(x+1, y)$로 가는 edge가 정의되어 있지 않고, $(x+1, y-1)$이 정의되어 있으면 $(x,y)$에서 여기로 가는 방향을 가진 edge를 정의한다.\n",
    "1. $(0,0), (n,0)$을 각각 $s, d$로 설정한다.\n",
    "\n",
    "간단히 말하면, 6개의 stage를 갖는 Binary Bridge의 형태는 책의 `Figure 4.2`와 같은 형태를 갖는다는 것이다. 참고로 책에서는 stage가 20개인 Binary Bridge를 생성해서 분석한다.\n",
    "\n",
    "<img src=\"images/binary_bridge.png\" alt=\"Binary Bridge example\" style=\"width: 400px;\">"
   ]
  },
  {
   "cell_type": "markdown",
   "id": "nominated-protein",
   "metadata": {},
   "source": [
    "## Stochastic Travel Time"
   ]
  },
  {
   "cell_type": "markdown",
   "id": "usual-jacob",
   "metadata": {},
   "source": [
    "edge를 통과하는 데 걸리는 시간이 확률적이라는 말은 어떤 edge든 통과하는 데 걸리는 시간이 매 step마다 다르다는 것이다. 마치 경부고속도로의 길이는 항상 일정한데, 서울에서 부산까지 가는 데 걸리는 시간은 매번 다른 것과 같다. 이런 특징을 갖는 모의 시스템을 구현하기 위해서, 인접한 두 노드 $m, n$을 연결하는 edge마다 $t$번째 step에서 그 edge를 지나는 데 걸리는 시간 $y_{m,n,t}$를 매번 다르게 생성하는 확률분포가 필요하다. 이 확률분포는\n",
    "- 평균이 $\\theta_{m,n}$이고(즉, 이 edge를 지나는 데 걸리는 시간은 평균 $\\theta_{m,n}$)\n",
    "- 양의 실수에 대해 정의된 분포이어야 한다.\n",
    "\n",
    "책에서는 이를 아래와 같은 로그정규분포(Log Normal distribution)로 설정했다. $X$가 정규분포를 따르면 $Y=\\text{exp(X)}$는 로그정규분포를 따른다(즉, $\\ln Y$가 정규분포를 따름). 편의를 위해 아랫첨자를 모두 생략했다.\n",
    "$$\n",
    "y|\\theta\\sim LN(\\ln\\theta-\\frac{\\widetilde{\\sigma}^2}{2}, \\widetilde{\\sigma}^2)\\\\\n",
    "\\theta\\sim LN(\\mu_0,\\sigma^2_0)\n",
    "$$\n",
    "- $\\mathbb{E}[y|\\theta]=\\theta$가 될 수 있도록 하기 위해 $y$의 분포를 위와 같이 설정한 것이다(증명은 하단의 appendix 참고). $\\theta$역시 로그정규분포를 따르도록 해 양의 실수값만 갖도록 한다.\n",
    "- 두 분포에 포함된 $(\\widetilde{\\sigma}^2, \\mu_0, \\sigma^2_0)$는 값이 알려져 있다고 가정하는 초모수들이다. 이 예시에서는 $\\widetilde{\\sigma}^2, \\mu_0, \\sigma^2_0=(1, -0.5, 1)$로 설정했다."
   ]
  },
  {
   "cell_type": "code",
   "execution_count": 2,
   "id": "assisted-aberdeen",
   "metadata": {},
   "outputs": [],
   "source": [
    "class BinaryBridge:\n",
    "    \n",
    "    def __init__(self, n_stages, mu0, sig02):\n",
    "        \"\"\"\n",
    "        각 edge의 길이를 평균과 분산이 각각 mu0, sig02인 로그정규분포에서 생성\n",
    "        \"\"\"\n",
    "        assert (n_stages % 2 == 0), 'number of stages has to be even'\n",
    "        self.n_stages = n_stages\n",
    "        self.mu0 = mu0\n",
    "        self.sig02 = sig02\n",
    "        \n",
    "        self.nodes = set() # graph의 key들(node들)을 생성\n",
    "        self.graph = defaultdict(dict) # 각 node에 연결된 node의 edge에 해당하는 theta를 생성\n",
    "        self.minimum_distance = None\n",
    "        self.shortest_path = None\n",
    "        \n",
    "        self._create_graph()\n",
    "        self._prev = defaultdict(list)\n",
    "        self._apply_dijkstra()\n",
    "        \n",
    "    def _get_stage_width(self, stage):\n",
    "        \"\"\"\n",
    "        stage별 노드 개수를 반환하는 method(ex. 0->1, 1->2, 2->3, 3->2, 4->1)\n",
    "        \"\"\"\n",
    "        width = stage - 2 * max(0, stage - self.n_stages/2) + 1\n",
    "        return int(width)\n",
    "    \n",
    "    def _generate_nodes(self):\n",
    "        \"\"\"\n",
    "        노드들을 순서쌍 형태로 생성\n",
    "        \"\"\"\n",
    "        for x in range(self.n_stages + 1):\n",
    "            for y in range(self._get_stage_width(x)):\n",
    "                self.nodes.add((x, y))\n",
    "        \n",
    "    def _generate_edges(self):\n",
    "        \"\"\"\n",
    "        로그정규분포에서 노드들 사이의 edge에 해당하는 theta를 생성\n",
    "        \"\"\"\n",
    "        for x in range(self.n_stages + 1):\n",
    "            for y in range(self._get_stage_width(x)):\n",
    "                current = (x, y)\n",
    "                up_shape = (x+1, y+1)\n",
    "                flat_shape = (x+1, y)\n",
    "                down_shape = (x+1, y-1)\n",
    "                \n",
    "                if up_shape in self.nodes:\n",
    "                    self.graph[current][up_shape] = np.exp(np.random.normal(self.mu0, np.sqrt(self.sig02)))\n",
    "                if flat_shape in self.nodes:\n",
    "                    self.graph[current][flat_shape] = np.exp(np.random.normal(self.mu0, np.sqrt(self.sig02)))\n",
    "                if down_shape in self.nodes and flat_shape not in self.nodes:\n",
    "                    self.graph[current][down_shape] = np.exp(np.random.normal(self.mu0, np.sqrt(self.sig02)))\n",
    "\n",
    "                \n",
    "    def _create_graph(self):\n",
    "        \"\"\"\n",
    "        노드와 엣지를 생성해 그래프를 정의함\n",
    "        \"\"\"\n",
    "        self._generate_nodes()\n",
    "        self._generate_edges()\n",
    "        \n",
    "    def _apply_dijkstra(self):\n",
    "        \"\"\"\n",
    "        Dijkstra 알고리즘을 사용해 현재 생성된 그래프 내의 최단 거리를 계산하고 최단 경로를 저장\n",
    "        \"\"\"\n",
    "        distances = dict([(node, np.inf) for node in self.nodes])\n",
    "        distances[(0,0)] = 0\n",
    "        prev_path = defaultdict(list)\n",
    "\n",
    "        to_visit = [[0, (0,0)]]\n",
    "        while to_visit:\n",
    "            distance, visiting = heapq.heappop(to_visit)\n",
    "            for destination in self.graph[visiting].keys():\n",
    "                new_distance = distance + self.graph[visiting][destination]\n",
    "                if new_distance < distances[destination]:\n",
    "                    distances[destination] = new_distance\n",
    "                    prev_path[destination] = prev_path[visiting] + [visiting]\n",
    "                    heapq.heappush(to_visit, [new_distance, destination])\n",
    "        \n",
    "        arrival = (self.n_stages, 0)\n",
    "        self.minimum_distance = distances[arrival]\n",
    "        self.shortest_path = prev_path[arrival] + [arrival]"
   ]
  },
  {
   "cell_type": "markdown",
   "id": "historical-excellence",
   "metadata": {},
   "source": [
    "이런 상황에서 최적의 경로를 결정할 때는 지도 상에서 최단 거리인 경로를 찾을 것 보다는 좀 더 복잡한 과정이 필요하다. $s$에서 $d$로 가는 모든 경로를 여러번 시도해보며 "
   ]
  },
  {
   "cell_type": "markdown",
   "id": "reflected-apparatus",
   "metadata": {},
   "source": [
    "# Environment"
   ]
  },
  {
   "cell_type": "code",
   "execution_count": 3,
   "id": "danish-category",
   "metadata": {},
   "outputs": [],
   "source": [
    "class Environment(BinaryBridge):\n",
    "    \n",
    "    def overwrite_edge_length(self, edge_length):\n",
    "        \"\"\"\n",
    "        agent들이 업데이트한 edge별 theta를 기존 edge들에 덮어씌움\n",
    "        \"\"\"\n",
    "        for start_node in edge_length:\n",
    "            for end_node in edge_length[start_node]:\n",
    "                self.graph[start_node][end_node] = edge_length[start_node][end_node]\n",
    "                \n",
    "    def get_shortest_path(self):\n",
    "        \"\"\"\n",
    "        덮어씌워진 theta로 이루어진 새로운 graph로부터 최단경로(최단거리 X)를 찾아내 반환\n",
    "        \"\"\"\n",
    "        self._apply_dijkstra()\n",
    "        return self.shortest_path\n",
    "    \n",
    "    def generate_outcome(self, action, sig2_tilde):\n",
    "        \"\"\"\n",
    "        action(path)에 해당하는 edge들에 설정된 theta들로부터 edge당 소요시간(y)를 생성해 dictionary형태로 반환\n",
    "        \"\"\"\n",
    "        elapsed_times = defaultdict(dict)\n",
    "        for visiting, destination in zip(action, action[1:]): # edge마다\n",
    "            theta = self.graph[visiting][destination]\n",
    "            parameter_lognorm = np.log(theta) - sig2_tilde / 2\n",
    "            elapsed_time = np.exp(np.random.normal(parameter_lognorm, sig2_tilde)) # 소요시간(y) 생성\n",
    "            elapsed_times[visiting][destination] = elapsed_time\n",
    "\n",
    "        return elapsed_times"
   ]
  },
  {
   "cell_type": "markdown",
   "id": "cellular-configuration",
   "metadata": {},
   "source": [
    "# Agent"
   ]
  },
  {
   "cell_type": "code",
   "execution_count": 4,
   "id": "approximate-spray",
   "metadata": {},
   "outputs": [],
   "source": [
    "class EpsilonGreedy:\n",
    "    \n",
    "    def __init__(self, n_stages, mu0, sig02, epsilon=0.0, sig2_tilde=1.):\n",
    "        \"\"\"\n",
    "        \n",
    "        \"\"\"\n",
    "        assert (n_stages % 2 == 0), 'number of stages has to be even'\n",
    "        self.n_stages = n_stages\n",
    "        self.mu0 = mu0\n",
    "        self.sig02 = sig02\n",
    "        self.sig2_tilde = sig2_tilde\n",
    "        self.epsilon = epsilon\n",
    "        \n",
    "        self.internal_env = Environment(n_stages, mu0, sig02)\n",
    "        self.posterior_params = copy.deepcopy(self.internal_env.graph)\n",
    "        for visiting in self.posterior_params:\n",
    "            for destination in self.posterior_params[visiting]:\n",
    "                self.posterior_params[visiting][destination] = (mu0, sig02)\n",
    "    \n",
    "    def update_parameters(self, action, reward):\n",
    "        \n",
    "        for visiting in reward:\n",
    "            for destination in reward[visiting]:\n",
    "                elapse_time = reward[visiting][destination]\n",
    "                previous_mean, previous_var = self.posterior_params[visiting][destination]\n",
    "                \n",
    "                precision_theta = 1. / previous_var\n",
    "                precision_noise = 1. / self.sig2_tilde\n",
    "                updated_var = 1. / (precision_theta + precision_noise)\n",
    "                \n",
    "                updated_mean = precision_theta * previous_mean + precision_noise * (np.log(elapse_time) + self.sig2_tilde / 2)\n",
    "                updated_mean = updated_mean / (precision_theta + precision_noise)\n",
    "                \n",
    "                self.posterior_params[visiting][destination] = (updated_mean, updated_var)\n",
    "        \n",
    "    def _posterior_mean(self):\n",
    "        posterior_means = copy.deepcopy(self.posterior_params)\n",
    "        for visiting in self.posterior_params:\n",
    "            for destination in self.posterior_params[visiting]:\n",
    "                mean, var = self.posterior_params[visiting][destination]\n",
    "                posterior_means[visiting][destination] = np.exp(mean + var / 2)\n",
    "        \n",
    "        return posterior_means\n",
    "    \n",
    "    def _explore(self):\n",
    "        path = []\n",
    "        start_node = (0,0)\n",
    "        while True:\n",
    "            path += [start_node]\n",
    "            if start_node == (self.n_stages, 0):\n",
    "                break\n",
    "            start_node = random.choice(list(self.internal_env.graph[start_node].keys()))\n",
    "        return path\n",
    "    \n",
    "    def _exploit(self):\n",
    "        posterior_means = self._posterior_mean()\n",
    "        self.internal_env.overwrite_edge_length(posterior_means)\n",
    "        return self.internal_env.get_shortest_path()\n",
    "    \n",
    "    def pick_action(self):\n",
    "        if np.random.rand() < self.epsilon:\n",
    "            path = self._explore()\n",
    "        else:\n",
    "            path = self._exploit()\n",
    "        return path"
   ]
  },
  {
   "cell_type": "code",
   "execution_count": 5,
   "id": "applicable-communications",
   "metadata": {},
   "outputs": [],
   "source": [
    "class Thompson(EpsilonGreedy):\n",
    "    \n",
    "    def _posterior_sample(self):\n",
    "        posterior_samples = copy.deepcopy(self.posterior_params)\n",
    "        for visiting in self.posterior_params:\n",
    "            for destination in self.posterior_params[visiting]:\n",
    "                mean, var = self.posterior_params[visiting][destination]\n",
    "                posterior_samples[visiting][destination] = np.exp(np.random.normal(mean, var))\n",
    "        return posterior_samples\n",
    "        \n",
    "    def pick_action(self):\n",
    "        posterior_samples = self._posterior_sample()\n",
    "        self.internal_env.overwrite_edge_length(posterior_samples)\n",
    "        return self.internal_env.get_shortest_path()"
   ]
  },
  {
   "cell_type": "markdown",
   "id": "above-hebrew",
   "metadata": {},
   "source": [
    "# Experiment"
   ]
  },
  {
   "cell_type": "code",
   "execution_count": 6,
   "id": "common-breast",
   "metadata": {},
   "outputs": [],
   "source": [
    "def reward_function(response, aggregate=False):\n",
    "    \"\"\"\n",
    "    environment로부터의 response가 소요시간이라서 사실 reward_function 없이 바로 response를 사용해도 되지만,\n",
    "    \"\"\"\n",
    "    if aggregate:\n",
    "        reward = 0\n",
    "        for visiting in response:\n",
    "            for destination in response[visiting]:\n",
    "                reward += response[visiting][destination]\n",
    "    else:\n",
    "        reward = response\n",
    "    return reward"
   ]
  },
  {
   "cell_type": "code",
   "execution_count": 7,
   "id": "recent-olympus",
   "metadata": {},
   "outputs": [],
   "source": [
    "class Experiment:\n",
    "\n",
    "    def __init__(self, agent, environment, n_steps, exp_id):\n",
    "        \"\"\"\n",
    "        agent       : predefined instance of Greedy or Thompson class\n",
    "        environment : predefined instance of Environment class\n",
    "        n_steps     : number of steps in current experiment\n",
    "        exp_id      : id of current experiment\n",
    "        \"\"\"\n",
    "        self.agent = agent\n",
    "        self.environment = environment\n",
    "        self.optimal_reward = -environment.minimum_distance\n",
    "        self.n_steps = n_steps\n",
    "        self.exp_id = exp_id\n",
    "        self.result = []\n",
    "        self.data_dict = {}\n",
    "\n",
    "    def _step(self, step_index):\n",
    "        # pick action -> generate outcome -> observe reward of the action -> update belief accordingly\n",
    "        action = self.agent.pick_action()\n",
    "        response = self.environment.generate_outcome(action, self.agent.sig2_tilde)\n",
    "        self.agent.update_parameters(action, reward_function(response))\n",
    "\n",
    "        # calculate regret of current action\n",
    "        expected_reward = 0\n",
    "        for visiting, destination in zip(action, action[1:]):\n",
    "            expected_reward -= self.environment.graph[visiting][destination]\n",
    "        regret = self.optimal_reward - expected_reward\n",
    "\n",
    "        # Leave log\n",
    "        self.cum_regret += regret\n",
    "        self.data_dict = {'step': (step_index + 1), \n",
    "                          'regret': regret, \n",
    "                          'total_dist': reward_function(response, True), \n",
    "                          'action': action, \n",
    "                          'experiment_id':self.exp_id}\n",
    "        self.result.append(self.data_dict)\n",
    "    \n",
    "    def run(self):\n",
    "        self.cum_regret = 0\n",
    "        for t in range(self.n_steps):\n",
    "            self._step(t)\n",
    "        self.result = pd.DataFrame(self.result)"
   ]
  },
  {
   "cell_type": "code",
   "execution_count": 8,
   "id": "handled-nutrition",
   "metadata": {},
   "outputs": [
    {
     "name": "stdout",
     "output_type": "stream",
     "text": [
      "100"
     ]
    }
   ],
   "source": [
    "results = []\n",
    "n_stages = 20\n",
    "mu0 = -0.5\n",
    "sig02 = 1\n",
    "\n",
    "n_steps = 500\n",
    "n_experiment = 100\n",
    "environment = Environment(n_stages, mu0, sig02)\n",
    "agent_types = ['greedy-0.0', 'greedy-0.01', 'greedy-0.05', 'greedy-0.1', 'ts']\n",
    "\n",
    "for exp_id in range(1, n_experiment+1):\n",
    "    sys.stdout.write('\\r')\n",
    "    sys.stdout.write(str(exp_id))\n",
    "    sys.stdout.flush()\n",
    "    \n",
    "    np.random.seed(exp_id)\n",
    "    for agent_type in agent_types:\n",
    "        if agent_type[:6] == 'greedy':\n",
    "            agent = EpsilonGreedy(n_stages, mu0, sig02, epsilon=float(agent_type.split('-')[1]))\n",
    "        else:\n",
    "            agent = Thompson(n_stages, mu0, sig02)\n",
    "        experiment = Experiment(agent, environment, n_steps, exp_id)\n",
    "        experiment.run()\n",
    "        experiment.result.insert(experiment.result.shape[1], 'agent', agent_type)\n",
    "        results.append(experiment.result)"
   ]
  },
  {
   "cell_type": "markdown",
   "id": "removable-harrison",
   "metadata": {},
   "source": [
    "# Regret plot"
   ]
  },
  {
   "cell_type": "code",
   "execution_count": 14,
   "id": "everyday-seating",
   "metadata": {},
   "outputs": [
    {
     "data": {
      "image/png": "[encoded data removed]",
      "text/plain": [
       "<Figure size 432x288 with 1 Axes>"
      ]
     },
     "metadata": {
      "needs_background": "light"
     },
     "output_type": "display_data"
    }
   ],
   "source": [
    "df_concat = pd.concat(results)\n",
    "plt_df = df_concat.groupby(['agent', 'step']).agg({'regret':np.mean}).reset_index()\n",
    "fig, ax = plt.subplots()\n",
    "\n",
    "for agent_type in agent_types:\n",
    "    data = plt_df.loc[plt_df['agent'] == agent_type]\n",
    "    ax.plot(data['step'], data['regret'], label=agent_type)\n",
    "\n",
    "ax.set_xlabel('step')\n",
    "ax.set_ylabel('regret')\n",
    "ax.legend()\n",
    "plt.show()"
   ]
  },
  {
   "cell_type": "markdown",
   "id": "verified-oxide",
   "metadata": {},
   "source": [
    "# Appendix"
   ]
  },
  {
   "cell_type": "markdown",
   "id": "proper-jungle",
   "metadata": {},
   "source": [
    "## 로그정규분포의 확률밀도함수"
   ]
  },
  {
   "cell_type": "markdown",
   "id": "derived-measure",
   "metadata": {},
   "source": [
    "로그정규분포의 확률밀도함수를 도출하는 것은 $X\\sim N(\\mu,\\sigma^2)$일 때 $Y=\\text{exp}(X)$의 확률밀도함수를 도출하는 것이다. $f(x)=\\text{exp}(x)$가 단조증가함수이므로 아래와 같은 전개가 성립한다.\n",
    "\n",
    "$$\n",
    "P(Y\\leq y)=P(\\text{exp}(X)\\leq y)=P(X\\leq\\ln y)=F_X(\\ln y)\\\\\n",
    "p_Y(y)=\\frac{\\mathrm{d}}{\\mathrm{d}y}P(Y\\leq y)=\\frac{\\mathrm{d}}{\\mathrm{d}y}F_X(\\ln y)=\\frac{\\mathrm{d}x}{\\mathrm{d}y}\\frac{\\mathrm{d}}{\\mathrm{d}x}F_X(\\ln y)=\\frac{1}{y}f_X(\\ln y)\\\\\n",
    "\\therefore p_Y(y)=\\frac{1}{y\\sqrt{2\\pi\\sigma^2}}\\text{exp}\\left(-\\frac{(\\ln y-\\mu)^2}{2\\sigma^2}\\right),\\;\\;y>0\n",
    "$$"
   ]
  },
  {
   "cell_type": "markdown",
   "id": "trained-romance",
   "metadata": {},
   "source": [
    "## 로그정규분포의 평균"
   ]
  },
  {
   "cell_type": "markdown",
   "id": "patient-opposition",
   "metadata": {},
   "source": [
    "위와 같은 확률밀도함수를 갖는 확률변수 $Y$의 평균을 계산해본다. 참고로 $X=\\ln Y$라고 하면 $\\frac{\\mathrm{d}y}{\\mathrm{d}x}=\\text{exp}(x)$이다(즉, $\\mathrm{d}y=\\text{exp}(x)\\mathrm{d}x$)\n",
    "\n",
    "$$\n",
    "\\mathbb{E}[Y]=\\int_0^\\infty\\frac{y}{y\\sqrt{2\\pi\\sigma^2}}\\text{exp}\\left(-\\frac{(\\ln y-\\mu)^2}{2\\sigma^2}\\right)\\mathrm{d}y=\\int_{-\\infty}^{\\infty}\\frac{1}{\\sqrt{2\\pi\\sigma^2}}\\text{exp}\\left(-\\frac{(x-\\mu)^2}{2\\sigma^2}+x\\right)\\mathrm{d}x\n",
    "$$\n",
    "\n",
    "지수부 안을 정리하고, 평균과 분산이 각각 $(\\mu-\\sigma^2, \\sigma^2)$인 정규분포의 성질을 활용하면 아래와 같은 결론을 얻는다.\n",
    "\n",
    "$$\n",
    "\\mathbb{E}[Y]=\\text{exp}\\left(\\mu+\\frac{\\sigma^2}{2}\\right)\\int_{-\\infty}^\\infty\\frac{1}{\\sqrt{2\\pi\\sigma^2}}\\text{exp}\\left(-\\frac{(x-\\mu+\\sigma^2)^2}{2\\sigma^2}\\right)\\mathrm{d}x=\\text{exp}\\left(\\mu+\\frac{\\sigma^2}{2}\\right)\n",
    "$$\n",
    "\n",
    "이를 통해, 위 예시에서와 같이 평균과 분산이 각각 $(\\ln\\theta-\\frac{\\widetilde{\\sigma}^2}{2}, \\widetilde{\\sigma}^2)$인 정규분포로부터 로그 정규분포를 도출하면 그 로그 정규분포의 평균은 $\\text{exp}\\left(\\ln\\theta-\\frac{\\widetilde{\\sigma}^2}{2}+\\frac{\\widetilde{\\sigma}^2}{2}\\right)=\\theta$가 됨을 알 수 있다."
   ]
  }
 ],
 "metadata": {
  "kernelspec": {
   "display_name": "Python 3",
   "language": "python",
   "name": "python3"
  },
  "language_info": {
   "codemirror_mode": {
    "name": "ipython",
    "version": 3
   },
   "file_extension": ".py",
   "mimetype": "text/x-python",
   "name": "python",
   "nbconvert_exporter": "python",
   "pygments_lexer": "ipython3",
   "version": "3.9.1"
  },
  "toc-autonumbering": false,
  "toc-showcode": false,
  "toc-showmarkdowntxt": false
 },
 "nbformat": 4,
 "nbformat_minor": 5
}
