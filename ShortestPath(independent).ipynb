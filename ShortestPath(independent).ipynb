{
 "cells": [
  {
   "cell_type": "code",
   "execution_count": 1,
   "id": "banned-paradise",
   "metadata": {},
   "outputs": [],
   "source": [
    "import numpy as np\n",
    "import pandas as pd\n",
    "import heapq, sys, copy, random\n",
    "import matplotlib.pyplot as plt\n",
    "from collections import defaultdict"
   ]
  },
  {
   "cell_type": "markdown",
   "id": "manufactured-pearl",
   "metadata": {},
   "source": [
    "# 요약"
   ]
  },
  {
   "cell_type": "markdown",
   "id": "behind-chocolate",
   "metadata": {},
   "source": [
    "Thompson sampling의 다양한 적용 방법에 대한 설명을 하기 위해서는 Bernoulli Bandit보다는 복잡한 예시가 필요하다. 그래서 각 edge를 통과하는 데 걸리는 시간이 확률적으로 정해지는 Binary Bridge에서 최단 거리 탐색 문제를 Thompson sampling을 비롯한 여러 online learning algorithm들을 통해 해결하는 과정을 설명한다."
   ]
  },
  {
   "cell_type": "markdown",
   "id": "accessory-marine",
   "metadata": {},
   "source": [
    "## Binary Bridge"
   ]
  },
  {
   "cell_type": "markdown",
   "id": "nasty-estonia",
   "metadata": {},
   "source": [
    "Agent는 각 stage마다 한 edge를 타고 이동한다. $s$에서 출발해 $d$에 도착하기까지 총 $n$(짝수)개의 stage가 있다고 할 때, 책에서 설명하는 Binary Bridge는 아래와 같은 방식으로 정의되는 그래프다.\n",
    "\n",
    "1. (node 배치) $i=0,\\ldots,n$에 대해 아래 과정을 반복한다.\n",
    "    1. $p=(i + 1) - 2\\text{max}(0, i - \\frac{n}{2})$개의 노드를 정의한다.\n",
    "    1. $p$개의 node를 각각 $(i, j)$에 배치시킨다$(j=0,\\ldots,p-1)$\n",
    "1. (node 연결) 임의의 노드 $(x,y)$에 대해 아래 과정을 반복한다.\n",
    "    1. $(x+1, y+1)$이 정의되어 있으면 $(x,y)$에서 여기로 가는 방향을 가진 edge를 정의한다.\n",
    "    1. $(x+1, y)$이 정의되어 있으면 $(x,y)$에서 여기로 가는 방향을 가진 edge를 정의한다.\n",
    "    1. $(x+1, y)$로 가는 edge가 정의되어 있지 않고, $(x+1, y-1)$이 정의되어 있으면 $(x,y)$에서 여기로 가는 방향을 가진 edge를 정의한다.\n",
    "1. $(0,0), (n,0)$을 각각 $s, d$로 설정한다.\n",
    "\n",
    "간단히 말하면, 6개의 stage를 갖는 Binary Bridge의 형태는 책의 `Figure 4.2`와 같은 형태를 갖는다는 것이다. 참고로 책에서는 stage가 20개인 Binary Bridge를 생성해서 분석한다.\n",
    "\n",
    "<img src=\"images/binary_bridge.png\" alt=\"Binary Bridge example\" style=\"width: 400px;\">"
   ]
  },
  {
   "cell_type": "markdown",
   "id": "chief-shareware",
   "metadata": {},
   "source": [
    "## Stochastic Travel Time"
   ]
  },
  {
   "cell_type": "markdown",
   "id": "residential-authentication",
   "metadata": {},
   "source": [
    "edge를 통과하는 데 걸리는 시간이 확률적이라는 말은 어떤 edge든 통과하는 데 걸리는 시간이 매 step마다 다르다는 것이다. 마치 경부고속도로의 길이는 항상 일정한데, 서울에서 부산까지 가는 데 걸리는 시간은 매번 다른 것과 같다. 이런 특징을 갖는 모의 시스템을 구현하기 위해서, 인접한 두 노드 $m, n$을 연결하는 edge마다 $t$번째 step에서 그 edge를 지나는 데 걸리는 시간 $y_{m,n,t}$를 매번 다르게 생성하는 확률분포가 필요하다. 이 확률분포는\n",
    "- 기대값이 $\\theta_{m,n}$이고(즉, 이 edge를 지나는 데 걸리는 시간의 기대값은 $\\theta_{m,n}$)\n",
    "- 양의 실수에 대해 정의된 분포이어야 한다.\n",
    "\n",
    "책에서는 이를 아래와 같은 로그정규분포(Log Normal distribution)로 설정했다. $X$가 정규분포를 따르면 $Y=\\text{exp(X)}$는 로그정규분포를 따른다(즉, $\\ln Y$가 정규분포를 따름). 편의를 위해 아랫첨자를 모두 생략했다.\n",
    "$$\n",
    "y|\\theta\\sim LN(\\ln\\theta-\\frac{\\widetilde{\\sigma}^2}{2}, \\widetilde{\\sigma}^2),\\;\\;\\theta\\sim LN(\\mu_0,\\sigma^2_0)\n",
    "$$\n",
    "\n",
    "- $\\mathbb{E}[y|\\theta]=\\theta$가 될 수 있도록 하기 위해 $y$의 분포를 위와 같이 설정한 것이다(로그정규분포의 기대값 도출 증명은 하단의 appendix 참고). edge를 통과하는 데 걸리는 시간의 기대값인 $\\theta$역시 로그정규분포를 따르도록 해 양의 실수값만을 갖도록 한다.\n",
    "- 두 분포에 포함된 $(\\widetilde{\\sigma}^2, \\mu_0, \\sigma^2_0)$는 값이 알려져 있다고 가정하는 초모수들이다. 참고로 이 예시에서는 $\\widetilde{\\sigma}^2, \\mu_0, \\sigma^2_0=(1, -0.5, 1)$로 설정했다.\n",
    "\n",
    "여기까지의 내용을 통해 요약에서 언급한 `edge를 통과하는 데 걸리는 시간이 확률적으로 정해지는 Binary Bridge`를 정의했다. 이를 아래와 같이 구현할 수 있다."
   ]
  },
  {
   "cell_type": "code",
   "execution_count": 2,
   "id": "insured-shuttle",
   "metadata": {},
   "outputs": [],
   "source": [
    "class BinaryBridge:\n",
    "    \n",
    "    def __init__(self, n_stages, mu0, sig02):\n",
    "        \"\"\"\n",
    "        n_stages개의 stage를 갖고, 각 edge의 길이를 평균과 분산이 각각 mu0, sig02인 로그정규분포에서 생성하는 Binary Bridge를 생성하는 클래스\n",
    "        \"\"\"\n",
    "        assert (n_stages % 2 == 0), 'number of stages has to be even'\n",
    "        self.n = n_stages\n",
    "        self.mu0 = mu0\n",
    "        self.sig02 = sig02\n",
    "        \n",
    "        self.nodes = set()\n",
    "        self.graph = defaultdict(dict)\n",
    "        self.minimum_distance = None\n",
    "        self.shortest_path = None\n",
    "        \n",
    "        self._create_graph()\n",
    "        self._prev = defaultdict(list)\n",
    "        self._apply_dijkstra()\n",
    "        \n",
    "    def _get_stage_width(self, x):\n",
    "        \"\"\"\n",
    "        Binary Bridege가 정의되는 (x,y)평면에서 x축 위의 점마다 몇 개의 node가 있어야 하는지를 반환\n",
    "        \"\"\"\n",
    "        width = x - 2 * max(0, x - self.n/2) + 1\n",
    "        return int(width)\n",
    "    \n",
    "    def _generate_nodes(self):\n",
    "        \"\"\"\n",
    "        node들을 순서쌍 형태로 정의\n",
    "        \"\"\"\n",
    "        for x in range(self.n + 1):\n",
    "            for y in range(self._get_stage_width(x)):\n",
    "                self.nodes.add((x, y))\n",
    "        \n",
    "    def _generate_edges(self):\n",
    "        \"\"\"\n",
    "        정의된 node들을 기반으로 stage별 edge에 해당하는 theta를 로그정규분포에서 임의로 생성\n",
    "        \"\"\"\n",
    "        for x in range(self.n + 1):\n",
    "            for y in range(self._get_stage_width(x)):\n",
    "                current = (x, y)\n",
    "                up_shape = (x+1, y+1)\n",
    "                flat_shape = (x+1, y)\n",
    "                down_shape = (x+1, y-1)\n",
    "                \n",
    "                if up_shape in self.nodes:\n",
    "                    self.graph[current][up_shape] = np.exp(np.random.normal(self.mu0, np.sqrt(self.sig02)))\n",
    "                if flat_shape in self.nodes:\n",
    "                    self.graph[current][flat_shape] = np.exp(np.random.normal(self.mu0, np.sqrt(self.sig02)))\n",
    "                if down_shape in self.nodes and flat_shape not in self.nodes:\n",
    "                    self.graph[current][down_shape] = np.exp(np.random.normal(self.mu0, np.sqrt(self.sig02)))\n",
    "\n",
    "                \n",
    "    def _create_graph(self):\n",
    "        \"\"\"\n",
    "        위 method들을 기반으로 Binary Bridge를 생성\n",
    "        \"\"\"\n",
    "        self._generate_nodes()\n",
    "        self._generate_edges()\n",
    "        \n",
    "    def _apply_dijkstra(self):\n",
    "        \"\"\"\n",
    "        생성한 Binary Bridge에 대해 Dijkstra 알고리즘을 사용해 아래와 같은 정보들을 계산\n",
    "         - self.shortest_path    : s에서 d까지 가는 데 지나게 되는 edge에 대응하는 theta들의 총합이 가장 작은 경로\n",
    "         - self.minimum_distance : 위 경로에 대응하는 theta들의 총합\n",
    "        \"\"\"\n",
    "        distances = dict([(node, np.inf) for node in self.nodes])\n",
    "        distances[(0,0)] = 0\n",
    "        prev_path = defaultdict(list)\n",
    "\n",
    "        to_visit = [[0, (0,0)]]\n",
    "        while to_visit:\n",
    "            distance, visiting = heapq.heappop(to_visit)\n",
    "            for destination in self.graph[visiting].keys():\n",
    "                new_distance = distance + self.graph[visiting][destination]\n",
    "                if new_distance < distances[destination]:\n",
    "                    distances[destination] = new_distance\n",
    "                    prev_path[destination] = prev_path[visiting] + [visiting]\n",
    "                    heapq.heappush(to_visit, [new_distance, destination])\n",
    "        \n",
    "        arrival = (self.n, 0)\n",
    "        self.shortest_path = prev_path[arrival] + [arrival]\n",
    "        self.minimum_distance = distances[arrival]"
   ]
  },
  {
   "cell_type": "markdown",
   "id": "stopped-aluminum",
   "metadata": {},
   "source": [
    "이처럼 각 edge를 통과하는 데 걸리는 시간이 매번 다른 상황에서 최적의 경로를 결정할 때는, $s$에서 $d$로 가는 모든 경로를 여러번 시도해보며 알게 된 소요시간들을 바탕으로 각 edge별 통과 소요시간 기대값 $\\theta_{m,n}$에 대한 믿음을 업데이트해야 한다. 따라서 이 문제는 Thompson sampling을 비롯한 online learning algorithm들을 사용해서 해결할 수 있음을 알 수 있다. Experiment는 아래와 같은 step을 반복하며 진행된다.\n",
    "\n",
    "1. Agent는 $s$에서 $d$로 가는 한 경로를 선택한다.\n",
    "1. Environment는 그 경로에 대응하는 edge들 각각의 확률분포에서 소요시간을 생성해 outcome을 반환한다.\n",
    "1. Agent는 edge별 소요시간을 바탕으로 edge별 소요시간 기대값에 대한 믿음을 업데이트한다."
   ]
  },
  {
   "cell_type": "markdown",
   "id": "minus-petersburg",
   "metadata": {},
   "source": [
    "# Environment"
   ]
  },
  {
   "cell_type": "markdown",
   "id": "developmental-perry",
   "metadata": {},
   "source": [
    "앞에서 구현한 `BinaryBridge` 클래스를 바탕으로 Environment를 구현할 수 있다. 먼저 agent의 action에 대한 outcome을 반환하는 method가 필요하다.\n",
    "- `generate_outcome` : 생성된 Binary Bridge의 경로에 포함된 edge들로부터 소요시간을 생성하는 method\n",
    "\n",
    "또한 Agent들도 $t$시점까지의 theta에 대한 믿음을 저장하고 이를 기반으로 $t+1$시점의 action을 결정할 목적으로(즉, exploit을 할 때), Environment에 정의된 형태의 Binary Bridge를 개인적으로 정의한다. Agent가 exploit중에 action을 결정하는 과정은 $t$시점에 각 edge의 모수 theta에 대한 정보를 업데이트하고, 로 이루어져 있다. 따라서 Environment에 이런 method들이 필요하다.\n",
    "- `overwrite_edge_length` : \n",
    "- `get_shortest_path` : bb"
   ]
  },
  {
   "cell_type": "code",
   "execution_count": 3,
   "id": "colored-arbor",
   "metadata": {},
   "outputs": [],
   "source": [
    "class Environment(BinaryBridge):\n",
    "    \n",
    "    def generate_outcome(self, action, sig2_tilde):\n",
    "        \"\"\"\n",
    "        m에서 n으로 가는 edge에 대응하는 로그정규분포로부터 소요시간 y를 생성해 (m):{(n):y} dictionary 형태로 outcome을 반환\n",
    "        \"\"\"\n",
    "        elapsed_times = defaultdict(dict)\n",
    "        for visiting, destination in zip(action, action[1:]): # edge마다\n",
    "            theta = self.graph[visiting][destination]\n",
    "            parameter_lognorm = np.log(theta) - sig2_tilde / 2\n",
    "            elapsed_time = np.exp(np.random.normal(parameter_lognorm, sig2_tilde)) # 소요시간(y) 생성\n",
    "            elapsed_times[visiting][destination] = elapsed_time\n",
    "\n",
    "        return elapsed_times\n",
    "    \n",
    "    def overwrite_edge_length(self, edge_lengths):\n",
    "        \"\"\"\n",
    "        edge에 대응하는 theta에 대한 agent의 업데이트된 믿음을 덮어씌움\n",
    "        \"\"\"\n",
    "        for start_node in edge_lengths:\n",
    "            for end_node in edge_lengths[start_node]:\n",
    "                self.graph[start_node][end_node] = edge_lengths[start_node][end_node]\n",
    "                \n",
    "    def get_shortest_path(self):\n",
    "        \"\"\"\n",
    "        덮어씌워진 theta로 이루어진 새로운 graph로부터 최단경로를 찾아내 반환\n",
    "        \"\"\"\n",
    "        self._apply_dijkstra()\n",
    "        return self.shortest_path"
   ]
  },
  {
   "cell_type": "markdown",
   "id": "certain-denmark",
   "metadata": {},
   "source": [
    "# Agent"
   ]
  },
  {
   "cell_type": "code",
   "execution_count": 4,
   "id": "threaded-practice",
   "metadata": {},
   "outputs": [],
   "source": [
    "class EpsilonGreedy:\n",
    "    \n",
    "    def __init__(self, n_stages, mu0, sig02, epsilon=0.0, sig2_tilde=1.):\n",
    "        \"\"\"\n",
    "        theta에 대한 agent의 믿음의 정보를 담고 \n",
    "        \"\"\"\n",
    "        assert (n_stages % 2 == 0), 'number of stages has to be even'\n",
    "        self.n = n_stages\n",
    "        self.mu0 = mu0\n",
    "        self.sig02 = sig02\n",
    "        self.sig2_tilde = sig2_tilde\n",
    "        self.epsilon = epsilon\n",
    "        \n",
    "        self.internal_env = Environment(n_stages, mu0, sig02)\n",
    "        self.posterior_params = copy.deepcopy(self.internal_env.graph)\n",
    "        for visiting in self.posterior_params:\n",
    "            for destination in self.posterior_params[visiting]:\n",
    "                self.posterior_params[visiting][destination] = (mu0, sig02)\n",
    "    \n",
    "    def update_parameters(self, action, reward):\n",
    "        \n",
    "        for visiting in reward:\n",
    "            for destination in reward[visiting]:\n",
    "                elapse_time = reward[visiting][destination]\n",
    "                previous_mean, previous_var = self.posterior_params[visiting][destination]\n",
    "                \n",
    "                precision_theta = 1. / previous_var\n",
    "                precision_noise = 1. / self.sig2_tilde\n",
    "                updated_var = 1. / (precision_theta + precision_noise)\n",
    "                \n",
    "                updated_mean = precision_theta * previous_mean + precision_noise * (np.log(elapse_time) + self.sig2_tilde / 2)\n",
    "                updated_mean = updated_mean / (precision_theta + precision_noise)\n",
    "                \n",
    "                self.posterior_params[visiting][destination] = (updated_mean, updated_var)\n",
    "        \n",
    "    def _posterior_mean(self):\n",
    "        posterior_means = copy.deepcopy(self.posterior_params)\n",
    "        for visiting in self.posterior_params:\n",
    "            for destination in self.posterior_params[visiting]:\n",
    "                mean, var = self.posterior_params[visiting][destination]\n",
    "                posterior_means[visiting][destination] = np.exp(mean + var / 2)\n",
    "        \n",
    "        return posterior_means\n",
    "    \n",
    "    def _explore(self):\n",
    "        path = []\n",
    "        start_node = (0,0)\n",
    "        while True:\n",
    "            path += [start_node]\n",
    "            if start_node == (self.n, 0):\n",
    "                break\n",
    "            start_node = random.choice(list(self.internal_env.graph[start_node].keys()))\n",
    "        return path\n",
    "    \n",
    "    def _exploit(self):\n",
    "        posterior_means = self._posterior_mean()\n",
    "        self.internal_env.overwrite_edge_length(posterior_means)\n",
    "        return self.internal_env.get_shortest_path()\n",
    "    \n",
    "    def pick_action(self):\n",
    "        if np.random.rand() < self.epsilon:\n",
    "            path = self._explore()\n",
    "        else:\n",
    "            path = self._exploit()\n",
    "        return path"
   ]
  },
  {
   "cell_type": "code",
   "execution_count": 5,
   "id": "violent-petersburg",
   "metadata": {},
   "outputs": [],
   "source": [
    "class Thompson(EpsilonGreedy):\n",
    "    \n",
    "    def _posterior_sample(self):\n",
    "        posterior_samples = copy.deepcopy(self.posterior_params)\n",
    "        for visiting in self.posterior_params:\n",
    "            for destination in self.posterior_params[visiting]:\n",
    "                mean, var = self.posterior_params[visiting][destination]\n",
    "                posterior_samples[visiting][destination] = np.exp(np.random.normal(mean, var))\n",
    "        return posterior_samples\n",
    "        \n",
    "    def pick_action(self):\n",
    "        posterior_samples = self._posterior_sample()\n",
    "        self.internal_env.overwrite_edge_length(posterior_samples)\n",
    "        return self.internal_env.get_shortest_path()"
   ]
  },
  {
   "cell_type": "markdown",
   "id": "verbal-louisiana",
   "metadata": {},
   "source": [
    "# Experiment"
   ]
  },
  {
   "cell_type": "code",
   "execution_count": 6,
   "id": "matched-flower",
   "metadata": {},
   "outputs": [],
   "source": [
    "def reward_function(response, aggregate=False):\n",
    "    \"\"\"\n",
    "    environment로부터의 response가 실현된 소요시간이라서 사실 reward_function 없이 바로 response를 사용해도 되지만, 소요된 총 시간을 구하는 \n",
    "    \"\"\"\n",
    "    if aggregate:\n",
    "        reward = 0\n",
    "        for visiting in response:\n",
    "            for destination in response[visiting]:\n",
    "                reward += response[visiting][destination]\n",
    "    else:\n",
    "        reward = response\n",
    "    return reward"
   ]
  },
  {
   "cell_type": "code",
   "execution_count": 7,
   "id": "familiar-eleven",
   "metadata": {},
   "outputs": [],
   "source": [
    "class Experiment:\n",
    "\n",
    "    def __init__(self, agent, environment, n_steps, exp_id):\n",
    "        \"\"\"\n",
    "        agent       : predefined instance of Greedy or Thompson class\n",
    "        environment : predefined instance of Environment class\n",
    "        n_steps     : number of steps in current experiment\n",
    "        exp_id      : id of current experiment\n",
    "        \"\"\"\n",
    "        self.agent = agent\n",
    "        self.environment = environment\n",
    "        self.optimal_reward = -environment.minimum_distance\n",
    "        self.n_steps = n_steps\n",
    "        self.exp_id = exp_id\n",
    "        self.result = []\n",
    "        self.data_dict = {}\n",
    "\n",
    "    def _step(self, step_index):\n",
    "        # pick action -> generate outcome -> observe reward of the action -> update belief accordingly\n",
    "        action = self.agent.pick_action()\n",
    "        response = self.environment.generate_outcome(action, self.agent.sig2_tilde)\n",
    "        self.agent.update_parameters(action, reward_function(response))\n",
    "\n",
    "        # calculate regret of current action\n",
    "        expected_reward = 0\n",
    "        for visiting, destination in zip(action, action[1:]):\n",
    "            expected_reward -= self.environment.graph[visiting][destination]\n",
    "        regret = self.optimal_reward - expected_reward\n",
    "\n",
    "        # Leave log\n",
    "        self.cum_regret += regret\n",
    "        self.data_dict = {'step': (step_index + 1), \n",
    "                          'regret': regret, \n",
    "                          'total_dist': reward_function(response, True), \n",
    "                          'action': action, \n",
    "                          'experiment_id':self.exp_id}\n",
    "        self.result.append(self.data_dict)\n",
    "    \n",
    "    def run(self):\n",
    "        self.cum_regret = 0\n",
    "        for t in range(self.n_steps):\n",
    "            self._step(t)\n",
    "        self.result = pd.DataFrame(self.result)"
   ]
  },
  {
   "cell_type": "code",
   "execution_count": 8,
   "id": "opening-fantasy",
   "metadata": {},
   "outputs": [
    {
     "name": "stdout",
     "output_type": "stream",
     "text": [
      "500"
     ]
    }
   ],
   "source": [
    "results = []\n",
    "n_stages = 20\n",
    "mu0 = -0.5\n",
    "sig02 = 1\n",
    "\n",
    "n_steps = 500\n",
    "n_experiment = 500\n",
    "environment = Environment(n_stages, mu0, sig02)\n",
    "agent_types = ['greedy-0.0', 'greedy-0.01', 'greedy-0.05', 'greedy-0.1', 'ts']\n",
    "\n",
    "for exp_id in range(1, n_experiment+1):\n",
    "    sys.stdout.write('\\r')\n",
    "    sys.stdout.write(str(exp_id))\n",
    "    sys.stdout.flush()\n",
    "    \n",
    "    np.random.seed(exp_id)\n",
    "    for agent_type in agent_types:\n",
    "        if agent_type[:6] == 'greedy':\n",
    "            agent = EpsilonGreedy(n_stages, mu0, sig02, epsilon=float(agent_type.split('-')[1]))\n",
    "        else:\n",
    "            agent = Thompson(n_stages, mu0, sig02)\n",
    "        experiment = Experiment(agent, environment, n_steps, exp_id)\n",
    "        experiment.run()\n",
    "        experiment.result.insert(experiment.result.shape[1], 'agent', agent_type)\n",
    "        results.append(experiment.result)"
   ]
  },
  {
   "cell_type": "markdown",
   "id": "packed-verification",
   "metadata": {},
   "source": [
    "# Regret plot"
   ]
  },
  {
   "cell_type": "code",
   "execution_count": 9,
   "id": "bibliographic-conversion",
   "metadata": {},
   "outputs": [
    {
     "data": {
      "image/png": "[encoded data removed]",
      "text/plain": [
       "<Figure size 432x288 with 1 Axes>"
      ]
     },
     "metadata": {
      "needs_background": "light"
     },
     "output_type": "display_data"
    }
   ],
   "source": [
    "df_concat = pd.concat(results)\n",
    "plt_df = df_concat.groupby(['agent', 'step']).agg({'regret':np.mean}).reset_index()\n",
    "fig, ax = plt.subplots()\n",
    "\n",
    "for agent_type in agent_types:\n",
    "    data = plt_df.loc[plt_df['agent'] == agent_type]\n",
    "    ax.plot(data['step'], data['regret'], label=agent_type)\n",
    "\n",
    "ax.set_xlabel('step')\n",
    "ax.set_ylabel('regret')\n",
    "ax.legend()\n",
    "plt.show()"
   ]
  },
  {
   "cell_type": "markdown",
   "id": "yellow-judgment",
   "metadata": {},
   "source": [
    "# Appendix"
   ]
  },
  {
   "cell_type": "markdown",
   "id": "velvet-russell",
   "metadata": {},
   "source": [
    "## 로그정규분포의 확률밀도함수"
   ]
  },
  {
   "cell_type": "markdown",
   "id": "minor-therapist",
   "metadata": {},
   "source": [
    "로그정규분포의 확률밀도함수를 도출하는 것은 $X\\sim N(\\mu,\\sigma^2)$일 때 $Y=\\text{exp}(X)$의 확률밀도함수를 도출하는 것이다. $f(x)=\\text{exp}(x)$가 단조증가함수이므로 아래와 같은 전개가 성립한다.\n",
    "$$\n",
    "P(Y\\leq y)=P(\\text{exp}(X)\\leq y)=P(X\\leq\\ln y)=F_X(\\ln y)\n",
    "$$\n",
    "\n",
    "누적분포함수와 확률밀도함수와의 관계를 이용해 아래와 같은 결론을 얻는다.\n",
    "$$\n",
    "p_Y(y)=\\frac{\\mathrm{d}}{\\mathrm{d}y}P(Y\\leq y)=\\frac{\\mathrm{d}}{\\mathrm{d}y}F_X(\\ln y)=\\frac{\\mathrm{d}x}{\\mathrm{d}y}\\frac{\\mathrm{d}}{\\mathrm{d}x}F_X(\\ln y)=\\frac{1}{y}f_X(\\ln y)\n",
    "$$\n",
    "\n",
    "따라서, $X\\sim N(\\mu,\\sigma^2)$일 때, $Y=\\text{exp}(X)$의 확률밀도함수는 아래와 같다.\n",
    "$$\n",
    "\\therefore p_Y(y)=\\frac{1}{y\\sqrt{2\\pi\\sigma^2}}\\text{exp}\\left(-\\frac{(\\ln y-\\mu)^2}{2\\sigma^2}\\right),\\;\\;y>0\n",
    "$$"
   ]
  },
  {
   "cell_type": "markdown",
   "id": "daily-person",
   "metadata": {},
   "source": [
    "## 로그정규분포의 기대값"
   ]
  },
  {
   "cell_type": "markdown",
   "id": "faced-registration",
   "metadata": {},
   "source": [
    "위와 같은 확률밀도함수를 갖는 확률변수 $Y$의 평균을 계산해본다. 참고로 $X=\\ln Y$라고 하면 $\\frac{\\mathrm{d}y}{\\mathrm{d}x}=\\text{exp}(x)$이다(즉, $\\mathrm{d}y=\\text{exp}(x)\\mathrm{d}x$)\n",
    "\n",
    "$$\n",
    "\\mathbb{E}[Y]=\\int_0^\\infty\\frac{y}{y\\sqrt{2\\pi\\sigma^2}}\\text{exp}\\left(-\\frac{(\\ln y-\\mu)^2}{2\\sigma^2}\\right)\\mathrm{d}y=\\int_{-\\infty}^{\\infty}\\frac{1}{\\sqrt{2\\pi\\sigma^2}}\\text{exp}\\left(-\\frac{(x-\\mu)^2}{2\\sigma^2}+x\\right)\\mathrm{d}x\n",
    "$$\n",
    "\n",
    "지수부 안을 정리하고, 평균과 분산이 각각 $(\\mu-\\sigma^2, \\sigma^2)$인 정규분포의 성질을 활용하면 아래와 같은 결론을 얻는다.\n",
    "\n",
    "$$\n",
    "\\mathbb{E}[Y]=\\text{exp}\\left(\\mu+\\frac{\\sigma^2}{2}\\right)\\int_{-\\infty}^\\infty\\frac{1}{\\sqrt{2\\pi\\sigma^2}}\\text{exp}\\left(-\\frac{(x-\\mu+\\sigma^2)^2}{2\\sigma^2}\\right)\\mathrm{d}x=\\text{exp}\\left(\\mu+\\frac{\\sigma^2}{2}\\right)\n",
    "$$\n",
    "\n",
    "이를 통해, 위 예시에서와 같이 평균과 분산이 각각 $(\\ln\\theta-\\frac{\\widetilde{\\sigma}^2}{2}, \\widetilde{\\sigma}^2)$인 정규분포로부터 로그 정규분포를 도출하면 그 로그 정규분포의 평균은 $\\text{exp}\\left(\\ln\\theta-\\frac{\\widetilde{\\sigma}^2}{2}+\\frac{\\widetilde{\\sigma}^2}{2}\\right)=\\theta$가 됨을 알 수 있다."
   ]
  },
  {
   "cell_type": "markdown",
   "id": "annual-sussex",
   "metadata": {},
   "source": [
    "## $\\theta$에 대한 믿음 업데이트하기"
   ]
  },
  {
   "cell_type": "markdown",
   "id": "anticipated-sunset",
   "metadata": {},
   "source": [
    "$t$번째 step에서 노드 $m$에서 노드 $n$으로 향하는 edge를 통과하는 데 걸린 시간이 $y_{m,n,t}$로 측정되었을 때, 이 값을 바탕으로 이 edge를 통과하는 데 걸리는 시간의 기대값인 $\\theta_{m,n}$에 대한 믿음을 업데이트할 수 있다. 즉, 위에서 정의한 $\\theta_{m,n}$와 $y_{m,n,t}|\\theta_{m,n}$의 분포를 바탕으로 $\\theta_{m,n}|y_{m,n,t}$의 분포를 도출한다(편의상 아랫첨자는 생략한다). 먼저, 베이즈 정리에 따라,\n",
    "\n",
    "$$\n",
    "p(\\theta|y)\\propto p(y|\\theta)p(\\theta)\\equiv\\ln p(\\theta|y)\\propto \\ln p(y|\\theta) + \\ln p(\\theta)\n",
    "$$\n",
    "\n",
    "인데, 위에서 정의한 바에 따르면\n",
    "\n",
    "$$\n",
    "\\ln p(y|\\theta)=-\\ln y-\\frac{1}{2}\\ln 2\\pi - \\frac{1}{2}\\ln\\widetilde{\\sigma}^2-\\frac{(\\ln y-\\ln\\theta+\\frac{\\widetilde{\\sigma}^2}{2})^2}{2\\widetilde{\\sigma}^2},\\;\\;\\ln p(\\theta)=-\\ln\\theta-\\frac{1}{2}\\ln 2\\pi-\\frac{1}{2}\\ln\\sigma^2_0-\\frac{(\\ln\\theta-\\mu_0)^2}{2\\sigma^2_0}\n",
    "$$\n",
    "\n",
    "이므로, $\\ln p(y|\\theta) + \\ln p(\\theta)$를 $\\theta$에 대해 정리해서 아래와 같은 결론을 얻는다.\n",
    "\n",
    "$$\n",
    "\\ln p(\\theta|y)\\propto -\\ln\\theta-\\frac{(\\ln\\theta-\\mu_0)^2}{2\\sigma^2_0}-\\frac{\\left(\\ln y-\\ln\\theta+\\frac{\\widetilde{\\sigma}^2}{2}\\right)^2}{2\\widetilde{\\sigma}^2}\\;\\;\\cdots\\;\\;(1)\n",
    "$$\n",
    "\n",
    "이를 로그정규분포의 커널 형태에 맞게 정리할 수 있다. 즉,\n",
    "\n",
    "$$\n",
    "(1) \\propto -\\ln\\theta-\\left\\{\\frac{\\{(\\ln\\theta)^2-2\\mu_0\\ln\\theta+\\mu^2_0\\}}{2\\sigma^2_0}+\\frac{(\\ln\\theta)^2-2\\left(\\ln y+\\frac{\\widetilde{\\sigma}^2}{2}\\right)\\ln\\theta+\\left(\\ln y+\\frac{\\widetilde{\\sigma}^2}{2}\\right)^2}{2\\widetilde{\\sigma}^2}\\right\\}\\;\\;\\cdots\\;\\;(2)\n",
    "$$\n",
    "\n",
    "(2)를 $\\theta$에 대해 더 정리하면,\n",
    "\n",
    "$$\n",
    "(2)\\propto-\\ln\\theta-\\left\\{\\frac{1}{2}\\left(\\frac{1}{\\sigma^2_0}+\\frac{1}{\\widetilde{\\sigma}^2}\\right)(\\ln\\theta)^2-\\left(\\frac{\\mu_0}{\\sigma^2_0}+\\frac{\\ln y}{\\widetilde{\\sigma}^2}+\\frac{1}{2}\\right)\\ln\\theta\\right\\}\\propto-\\ln\\theta-\\frac{\\left\\{\\ln\\theta-\\frac{\\left(\\frac{\\mu_0}{\\sigma^2_0}+\\frac{\\ln y}{\\widetilde{\\sigma}^2}+\\frac{1}{2}\\right)}{\\left(\\frac{1}{\\sigma^2_0}+\\frac{1}{\\widetilde{\\sigma}^2}\\right)}\\right\\}^2}{2\\left(1/\\left(\\frac{1}{\\sigma^2_0}+\\frac{1}{\\widetilde{\\sigma}^2}\\right)\\right)}\n",
    "$$\n",
    "\n",
    "이므로, 아래와 같은 결론을 얻는다.\n",
    "\n",
    "$$\n",
    "\\theta|y\\sim LN\\left(\\frac{\\left(\\frac{\\mu_0}{\\sigma^2_0}+\\frac{\\ln y}{\\widetilde{\\sigma}^2}+\\frac{1}{2}\\right)}{\\left(\\frac{1}{\\sigma^2_0}+\\frac{1}{\\widetilde{\\sigma}^2}\\right)},\\frac{1}{\\left(\\frac{1}{\\sigma^2_0}+\\frac{1}{\\widetilde{\\sigma}^2}\\right)}\\right)\n",
    "$$"
   ]
  }
 ],
 "metadata": {
  "kernelspec": {
   "display_name": "Python 3",
   "language": "python",
   "name": "python3"
  },
  "language_info": {
   "codemirror_mode": {
    "name": "ipython",
    "version": 3
   },
   "file_extension": ".py",
   "mimetype": "text/x-python",
   "name": "python",
   "nbconvert_exporter": "python",
   "pygments_lexer": "ipython3",
   "version": "3.9.1"
  },
  "toc-autonumbering": false,
  "toc-showcode": false,
  "toc-showmarkdowntxt": false
 },
 "nbformat": 4,
 "nbformat_minor": 5
}
